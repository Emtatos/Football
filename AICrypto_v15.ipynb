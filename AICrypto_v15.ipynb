{
  "cells": [
    {
      "cell_type": "markdown",
      "metadata": {
        "id": "view-in-github",
        "colab_type": "text"
      },
      "source": [
        "<a href=\"https://colab.research.google.com/github/Emtatos/Football/blob/main/AICrypto_v15.ipynb\" target=\"_parent\"><img src=\"https://colab.research.google.com/assets/colab-badge.svg\" alt=\"Open In Colab\"/></a>"
      ]
    },
    {
      "cell_type": "code",
      "execution_count": null,
      "metadata": {
        "id": "kcVp5AFJH4gO"
      },
      "outputs": [],
      "source": [
        "# --- Installera nödvändiga bibliotek utan att visa varningsmeddelanden ---\n",
        "!pip install --upgrade --force-reinstall yfinance ta requests pandas scikit-learn xgboost lightgbm catboost -q 2>/dev/null\n",
        "\n",
        "# Undertryck alla Python-varningar\n",
        "import warnings\n",
        "warnings.filterwarnings(\"ignore\")\n",
        "\n",
        "# --- Importera bibliotek ---\n",
        "import requests\n",
        "import numpy as np\n",
        "import pandas as pd\n",
        "import yfinance as yf\n",
        "\n",
        "from ta.momentum import RSIIndicator\n",
        "from ta.trend import MACD, ADXIndicator\n",
        "from ta.volatility import BollingerBands\n",
        "from ta.volume import VolumeWeightedAveragePrice\n",
        "\n",
        "from sklearn.ensemble import VotingClassifier, RandomForestClassifier\n",
        "from sklearn.model_selection import train_test_split\n",
        "from xgboost import XGBClassifier\n",
        "from lightgbm import LGBMClassifier\n",
        "from catboost import CatBoostClassifier\n",
        "from sklearn.metrics import accuracy_score\n",
        "\n",
        "# --- Telegram-konfiguration ---\n",
        "TELEGRAM_BOT_TOKEN = \"7205234176:AAE9OYcNsmFHm0Nc40zZ9Q-y86nsU3B8FSY\"\n",
        "TELEGRAM_CHAT_ID = \"1968695549\"\n",
        "\n",
        "def send_telegram_message(message):\n",
        "    url = f\"https://api.telegram.org/bot{TELEGRAM_BOT_TOKEN}/sendMessage\"\n",
        "    params = {\"chat_id\": TELEGRAM_CHAT_ID, \"text\": message, \"parse_mode\": \"Markdown\"}\n",
        "    response = requests.get(url, params=params)\n",
        "    if response.status_code == 200:\n",
        "        print(\"✅ Signal skickad till Telegram!\")\n",
        "    else:\n",
        "        print(\"⚠️ Misslyckades att skicka signal till Telegram.\")\n",
        "\n",
        "def get_bitcoin_data():\n",
        "    # Hämta data med auto_adjust=True\n",
        "    df = yf.download('BTC-USD', period='2y', interval='1d', auto_adjust=True)\n",
        "\n",
        "    # Om kolumnerna är ett MultiIndex, platta till dem\n",
        "    if isinstance(df.columns, pd.MultiIndex):\n",
        "        df.columns = df.columns.droplevel(1)\n",
        "\n",
        "    # Konvertera relevanta kolumner till float\n",
        "    for col in [\"Close\", \"High\", \"Low\", \"Volume\"]:\n",
        "        df[col] = df[col].astype(float)\n",
        "\n",
        "    return df\n",
        "\n",
        "def add_indicators(df):\n",
        "    # Beräkna tekniska indikatorer\n",
        "    df[\"RSI\"] = RSIIndicator(close=df[\"Close\"], window=14).rsi()\n",
        "    df[\"MACD\"] = MACD(close=df[\"Close\"]).macd()\n",
        "    df[\"ADX\"] = ADXIndicator(high=df[\"High\"], low=df[\"Low\"], close=df[\"Close\"]).adx()\n",
        "    df[\"BB_High\"] = BollingerBands(close=df[\"Close\"]).bollinger_hband()\n",
        "    df[\"BB_Low\"] = BollingerBands(close=df[\"Close\"]).bollinger_lband()\n",
        "    df[\"VWAP\"] = VolumeWeightedAveragePrice(high=df[\"High\"], low=df[\"Low\"],\n",
        "                                              close=df[\"Close\"], volume=df[\"Volume\"]).volume_weighted_average_price()\n",
        "    # Ta bort rader med NaN-värden\n",
        "    df.dropna(inplace=True)\n",
        "    return df\n",
        "\n",
        "def create_target(df):\n",
        "    # Skapa målvariabel: 1 om nästa dags stängningskurs är högre än dagens, annars 0\n",
        "    df[\"Target\"] = (df[\"Close\"].shift(-1) > df[\"Close\"]).astype(int)\n",
        "    df.dropna(inplace=True)\n",
        "    return df\n",
        "\n",
        "def train_model(df):\n",
        "    X = df[[\"RSI\", \"MACD\", \"ADX\", \"BB_High\", \"BB_Low\", \"VWAP\"]]\n",
        "    y = df[\"Target\"]\n",
        "    X_train, X_test, y_train, y_test = train_test_split(X, y, test_size=0.2, random_state=42)\n",
        "\n",
        "    model = VotingClassifier(estimators=[\n",
        "        (\"rf\", RandomForestClassifier(n_estimators=100, random_state=42)),\n",
        "        (\"xgb\", XGBClassifier(use_label_encoder=False, eval_metric=\"logloss\", random_state=42)),\n",
        "        (\"lgbm\", LGBMClassifier(random_state=42, verbose=-1)),  # tysta LightGBM\n",
        "        (\"cat\", CatBoostClassifier(verbose=0, random_state=42))\n",
        "    ], voting=\"soft\")\n",
        "\n",
        "    model.fit(X_train, y_train)\n",
        "\n",
        "    # Utvärdera modellens träffsäkerhet\n",
        "    y_pred = model.predict(X_test)\n",
        "    accuracy = accuracy_score(y_test, y_pred)\n",
        "    print(f\"📊 Modellens träffsäkerhet: {accuracy:.2%}\")\n",
        "\n",
        "    return model, X_test\n",
        "\n",
        "# Hämta data, lägg till indikatorer och skapa målvariabel\n",
        "df = get_bitcoin_data()\n",
        "if df is not None:\n",
        "    df = add_indicators(df)\n",
        "    df = create_target(df)\n",
        "\n",
        "    # Träna modellen\n",
        "    model, X_test = train_model(df)\n",
        "\n",
        "    # Skapa köp/sälj-rekommendation baserat på den senaste datapunkten i testmängden\n",
        "    latest_data = X_test.iloc[-1].values.reshape(1, -1)\n",
        "    prediction = model.predict(latest_data)[0]\n",
        "\n",
        "    if prediction == 1:\n",
        "        recommendation = \"📢 **KÖP** - AI-modellen ser en köpsignal!\"\n",
        "    else:\n",
        "        recommendation = \"📉 **SÄLJ** - AI-modellen ser en säljsignal!\"\n",
        "\n",
        "    # Skicka signalen till Telegram\n",
        "    send_telegram_message(recommendation)"
      ]
    },
    {
      "cell_type": "code",
      "execution_count": null,
      "metadata": {
        "colab": {
          "background_save": true,
          "base_uri": "https://localhost:8080/"
        },
        "id": "DeThYvU3QfyD",
        "outputId": "d7373eff-0be1-4904-f81b-d45d142e946e"
      },
      "outputs": [
        {
          "metadata": {
            "tags": null
          },
          "name": "stderr",
          "output_type": "stream",
          "text": [
            "\r[*********************100%***********************]  1 of 1 completed"
          ]
        },
        {
          "metadata": {
            "tags": null
          },
          "name": "stdout",
          "output_type": "stream",
          "text": [
            "⏳ Kör AICrypto_v15 och skickar signal till Telegram...\n"
          ]
        },
        {
          "metadata": {
            "tags": null
          },
          "name": "stderr",
          "output_type": "stream",
          "text": [
            "\n"
          ]
        },
        {
          "metadata": {
            "tags": null
          },
          "name": "stdout",
          "output_type": "stream",
          "text": [
            "📊 Modellens träffsäkerhet: 51.41%\n",
            "✅ Signal skickad till Telegram!\n",
            "✅ Väntar i 1 timme innan nästa körning...\n"
          ]
        }
      ],
      "source": [
        "import time\n",
        "\n",
        "while True:\n",
        "    print(\"⏳ Kör AICrypto_v15 och skickar signal till Telegram...\")\n",
        "\n",
        "    # Hämta data, analysera och skicka signal\n",
        "    df = get_bitcoin_data()\n",
        "    if df is not None:\n",
        "        df = add_indicators(df)\n",
        "        df = create_target(df)\n",
        "        model, X_test = train_model(df)\n",
        "\n",
        "        # Skapa köp/sälj-rekommendation baserat på den senaste datapunkten i testmängden\n",
        "        latest_data = X_test.iloc[-1].values.reshape(1, -1)\n",
        "        prediction = model.predict(latest_data)[0]\n",
        "\n",
        "        if prediction == 1:\n",
        "            recommendation = \"📢 **KÖP** - AI-modellen ser en köpsignal!\"\n",
        "        else:\n",
        "            recommendation = \"📉 **SÄLJ** - AI-modellen ser en säljsignal!\"\n",
        "\n",
        "        send_telegram_message(recommendation)\n",
        "\n",
        "    print(\"✅ Väntar i 1 timme innan nästa körning...\")\n",
        "    time.sleep(3600)  # Väntar 3600 sekunder (1 timme) innan den körs igen"
      ]
    }
  ],
  "metadata": {
    "colab": {
      "provenance": [],
      "authorship_tag": "ABX9TyPG4UnZ8O0j26Tux5TlK/f5",
      "include_colab_link": true
    },
    "kernelspec": {
      "display_name": "Python 3",
      "name": "python3"
    },
    "language_info": {
      "name": "python"
    }
  },
  "nbformat": 4,
  "nbformat_minor": 0
}